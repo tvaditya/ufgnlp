{
  "nbformat": 4,
  "nbformat_minor": 0,
  "metadata": {
    "colab": {
      "name": "ufgecomm",
      "provenance": []
    },
    "kernelspec": {
      "name": "python3",
      "display_name": "Python 3"
    }
  },
  "cells": [
    {
      "cell_type": "code",
      "metadata": {
        "id": "_8SrWDUTB3Ua",
        "colab_type": "code",
        "colab": {
          "base_uri": "https://localhost:8080/",
          "height": 125
        },
        "outputId": "64bf2068-100a-4b7f-c139-797b1863d618"
      },
      "source": [
        "from google.colab import drive \n",
        "drive.mount('/content/gdrive')\n"
      ],
      "execution_count": 3,
      "outputs": [
        {
          "output_type": "stream",
          "text": [
            "Go to this URL in a browser: https://accounts.google.com/o/oauth2/auth?client_id=947318989803-6bn6qk8qdgf4n4g3pfee6491hc0brc4i.apps.googleusercontent.com&redirect_uri=urn%3Aietf%3Awg%3Aoauth%3A2.0%3Aoob&scope=email%20https%3A%2F%2Fwww.googleapis.com%2Fauth%2Fdocs.test%20https%3A%2F%2Fwww.googleapis.com%2Fauth%2Fdrive%20https%3A%2F%2Fwww.googleapis.com%2Fauth%2Fdrive.photos.readonly%20https%3A%2F%2Fwww.googleapis.com%2Fauth%2Fpeopleapi.readonly&response_type=code\n",
            "\n",
            "Enter your authorization code:\n",
            "··········\n",
            "Mounted at /content/gdrive\n"
          ],
          "name": "stdout"
        }
      ]
    },
    {
      "cell_type": "code",
      "metadata": {
        "id": "LpGFl5gWDZmK",
        "colab_type": "code",
        "colab": {}
      },
      "source": [
        "import numpy as np\n",
        "import pandas as pd\n",
        "import seaborn as sns\n",
        "import warnings\n",
        "import matplotlib\n",
        "import matplotlib.pyplot as plt\n",
        "\n",
        "%matplotlib inline\n",
        "\n",
        "sns.set(style=\"ticks\")\n",
        "warnings.filterwarnings(\"ignore\")"
      ],
      "execution_count": 0,
      "outputs": []
    },
    {
      "cell_type": "code",
      "metadata": {
        "id": "JD6gPIxIEPn1",
        "colab_type": "code",
        "colab": {
          "base_uri": "https://localhost:8080/",
          "height": 34
        },
        "outputId": "7f3cf365-2441-4c1f-a5b1-430290b2186f"
      },
      "source": [
        "# Bibliotecas do keras\n",
        "from keras.preprocessing import sequence\n",
        "from keras.preprocessing.sequence import pad_sequences\n",
        "from keras.preprocessing.text import Tokenizer\n",
        "from keras.models import Sequential\n",
        "from keras.layers import Dense, LSTM, Flatten\n",
        "from keras.layers.embeddings import Embedding\n",
        "from sklearn.model_selection import train_test_split"
      ],
      "execution_count": 10,
      "outputs": [
        {
          "output_type": "stream",
          "text": [
            "Using TensorFlow backend.\n"
          ],
          "name": "stderr"
        }
      ]
    },
    {
      "cell_type": "code",
      "metadata": {
        "id": "v0-yGcpsDdJK",
        "colab_type": "code",
        "colab": {
          "base_uri": "https://localhost:8080/",
          "height": 326
        },
        "outputId": "941ea544-1578-4a06-ffd9-4ffa5fc63be2"
      },
      "source": [
        "df = pd.read_csv('gdrive/My Drive/train.csv')\n",
        "print(df.shape)\n",
        "df.head()"
      ],
      "execution_count": 6,
      "outputs": [
        {
          "output_type": "stream",
          "text": [
            "(27759, 4)\n"
          ],
          "name": "stdout"
        },
        {
          "output_type": "execute_result",
          "data": {
            "text/html": [
              "<div>\n",
              "<style scoped>\n",
              "    .dataframe tbody tr th:only-of-type {\n",
              "        vertical-align: middle;\n",
              "    }\n",
              "\n",
              "    .dataframe tbody tr th {\n",
              "        vertical-align: top;\n",
              "    }\n",
              "\n",
              "    .dataframe thead th {\n",
              "        text-align: right;\n",
              "    }\n",
              "</style>\n",
              "<table border=\"1\" class=\"dataframe\">\n",
              "  <thead>\n",
              "    <tr style=\"text-align: right;\">\n",
              "      <th></th>\n",
              "      <th>review_id</th>\n",
              "      <th>review_comment_message</th>\n",
              "      <th>review_creation_date</th>\n",
              "      <th>review_score</th>\n",
              "    </tr>\n",
              "  </thead>\n",
              "  <tbody>\n",
              "    <tr>\n",
              "      <th>0</th>\n",
              "      <td>75821c5c8a5c0c6eac2f4c92a9c1fdd6</td>\n",
              "      <td>O produto foi entregue bem antes do prazo.adorei</td>\n",
              "      <td>2017-11-29 00:00:00</td>\n",
              "      <td>5.0</td>\n",
              "    </tr>\n",
              "    <tr>\n",
              "      <th>1</th>\n",
              "      <td>033baa4238fcac803931108093d2456a</td>\n",
              "      <td>Prazo não foi cumprido ... até hoje não chegou...</td>\n",
              "      <td>2016-12-01 00:00:00</td>\n",
              "      <td>1.0</td>\n",
              "    </tr>\n",
              "    <tr>\n",
              "      <th>2</th>\n",
              "      <td>81fc60dcc93fccd7c1bc96736c7b3ede</td>\n",
              "      <td>recomendo</td>\n",
              "      <td>2017-11-26 00:00:00</td>\n",
              "      <td>5.0</td>\n",
              "    </tr>\n",
              "    <tr>\n",
              "      <th>3</th>\n",
              "      <td>f19a67f2e44ecb90c8f7a36efbae78d3</td>\n",
              "      <td>Chegou no tempo certo, produto bem embalado, s...</td>\n",
              "      <td>2017-10-21 00:00:00</td>\n",
              "      <td>5.0</td>\n",
              "    </tr>\n",
              "    <tr>\n",
              "      <th>4</th>\n",
              "      <td>dc05b3529d4387165a606b6583d67ed5</td>\n",
              "      <td>Recomendo sim, além de chegar antes do prazo e...</td>\n",
              "      <td>2017-10-11 00:00:00</td>\n",
              "      <td>5.0</td>\n",
              "    </tr>\n",
              "  </tbody>\n",
              "</table>\n",
              "</div>"
            ],
            "text/plain": [
              "                          review_id  ... review_score\n",
              "0  75821c5c8a5c0c6eac2f4c92a9c1fdd6  ...          5.0\n",
              "1  033baa4238fcac803931108093d2456a  ...          1.0\n",
              "2  81fc60dcc93fccd7c1bc96736c7b3ede  ...          5.0\n",
              "3  f19a67f2e44ecb90c8f7a36efbae78d3  ...          5.0\n",
              "4  dc05b3529d4387165a606b6583d67ed5  ...          5.0\n",
              "\n",
              "[5 rows x 4 columns]"
            ]
          },
          "metadata": {
            "tags": []
          },
          "execution_count": 6
        }
      ]
    },
    {
      "cell_type": "code",
      "metadata": {
        "id": "lGzeIP2YD_Oz",
        "colab_type": "code",
        "colab": {
          "base_uri": "https://localhost:8080/",
          "height": 175
        },
        "outputId": "695a27e2-4262-4c60-d46c-c488173a1e9f"
      },
      "source": [
        "df.info()"
      ],
      "execution_count": 7,
      "outputs": [
        {
          "output_type": "stream",
          "text": [
            "<class 'pandas.core.frame.DataFrame'>\n",
            "RangeIndex: 27759 entries, 0 to 27758\n",
            "Data columns (total 4 columns):\n",
            "review_id                 27758 non-null object\n",
            "review_comment_message    27759 non-null object\n",
            "review_creation_date      27758 non-null object\n",
            "review_score              27757 non-null float64\n",
            "dtypes: float64(1), object(3)\n",
            "memory usage: 867.5+ KB\n"
          ],
          "name": "stdout"
        }
      ]
    },
    {
      "cell_type": "code",
      "metadata": {
        "id": "DlADixfPECCY",
        "colab_type": "code",
        "colab": {}
      },
      "source": [
        "## Definição de alguns parâmetros dos modelos e tokenização\n",
        "\n",
        "# Tamanho da sequencia\n",
        "seq_size     = 5\n",
        "\n",
        "# Máximo de tokens \n",
        "max_tokens   = 100\n",
        "\n",
        "# Tamanho do embedding\n",
        "embed_dim    = 5"
      ],
      "execution_count": 0,
      "outputs": []
    },
    {
      "cell_type": "code",
      "metadata": {
        "id": "iTA6RE5-EFtA",
        "colab_type": "code",
        "colab": {}
      },
      "source": [
        "## Utilizaremos apenas o .review_comment_message (input) e o .review_score (target) da nossa rede\n",
        "# Textos\n",
        "text         = df['review_comment_message'].values\n",
        "tokenizer    = Tokenizer(num_words=max_tokens, split=' ')\n",
        "\n",
        "# Transforma o texto em números\n",
        "tokenizer.fit_on_texts(text)\n",
        "X = tokenizer.texts_to_sequences(text)  \n",
        "\n",
        "# Cria sequencias de tamanho fixo (input: X)\n",
        "X = pad_sequences(X, maxlen=seq_size)\n",
        "\n",
        "# Target (review_score)\n",
        "Y = df['review_score'].values"
      ],
      "execution_count": 0,
      "outputs": []
    }
  ]
}