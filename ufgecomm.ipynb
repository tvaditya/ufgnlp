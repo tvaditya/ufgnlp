{
  "nbformat": 4,
  "nbformat_minor": 0,
  "metadata": {
    "colab": {
      "name": "ufgecomm",
      "provenance": [],
      "collapsed_sections": [],
      "include_colab_link": true
    },
    "kernelspec": {
      "name": "python3",
      "display_name": "Python 3"
    }
  },
  "cells": [
    {
      "cell_type": "markdown",
      "metadata": {
        "id": "view-in-github",
        "colab_type": "text"
      },
      "source": [
        "<a href=\"https://colab.research.google.com/github/tvaditya/ufgnlp/blob/master/ufgecomm.ipynb\" target=\"_parent\"><img src=\"https://colab.research.google.com/assets/colab-badge.svg\" alt=\"Open In Colab\"/></a>"
      ]
    },
    {
      "cell_type": "code",
      "metadata": {
        "id": "_8SrWDUTB3Ua",
        "colab_type": "code",
        "colab": {}
      },
      "source": [
        "# from google.colab import drive \n",
        "# drive.mount('/content/gdrive')\n"
      ],
      "execution_count": 0,
      "outputs": []
    },
    {
      "cell_type": "code",
      "metadata": {
        "id": "LpGFl5gWDZmK",
        "colab_type": "code",
        "colab": {}
      },
      "source": [
        "import numpy as np\n",
        "import pandas as pd\n",
        "import seaborn as sns\n",
        "import warnings\n",
        "import matplotlib\n",
        "import matplotlib.pyplot as plt\n",
        "\n",
        "%matplotlib inline\n",
        "\n",
        "sns.set(style=\"ticks\")\n",
        "warnings.filterwarnings(\"ignore\")"
      ],
      "execution_count": 0,
      "outputs": []
    },
    {
      "cell_type": "code",
      "metadata": {
        "id": "JD6gPIxIEPn1",
        "colab_type": "code",
        "outputId": "c806e8e5-5a77-4a60-9876-98c0054c9258",
        "colab": {
          "base_uri": "https://localhost:8080/",
          "height": 34
        }
      },
      "source": [
        "# Bibliotecas do keras\n",
        "from keras.preprocessing import sequence\n",
        "from keras.preprocessing.sequence import pad_sequences\n",
        "from keras.preprocessing.text import Tokenizer\n",
        "from keras.models import Sequential\n",
        "from keras.layers import Dense, LSTM, Flatten\n",
        "from keras.layers.embeddings import Embedding\n",
        "from sklearn.model_selection import train_test_split"
      ],
      "execution_count": 4,
      "outputs": [
        {
          "output_type": "stream",
          "text": [
            "Using TensorFlow backend.\n"
          ],
          "name": "stderr"
        }
      ]
    },
    {
      "cell_type": "code",
      "metadata": {
        "id": "v0-yGcpsDdJK",
        "colab_type": "code",
        "outputId": "2351464e-54e6-441d-9e91-a9992f81e077",
        "colab": {
          "base_uri": "https://localhost:8080/",
          "height": 221
        }
      },
      "source": [
        "df = pd.read_csv('train.csv')\n",
        "print(df.shape)\n",
        "df.head()"
      ],
      "execution_count": 5,
      "outputs": [
        {
          "output_type": "stream",
          "text": [
            "(27759, 4)\n"
          ],
          "name": "stdout"
        },
        {
          "output_type": "execute_result",
          "data": {
            "text/html": [
              "<div>\n",
              "<style scoped>\n",
              "    .dataframe tbody tr th:only-of-type {\n",
              "        vertical-align: middle;\n",
              "    }\n",
              "\n",
              "    .dataframe tbody tr th {\n",
              "        vertical-align: top;\n",
              "    }\n",
              "\n",
              "    .dataframe thead th {\n",
              "        text-align: right;\n",
              "    }\n",
              "</style>\n",
              "<table border=\"1\" class=\"dataframe\">\n",
              "  <thead>\n",
              "    <tr style=\"text-align: right;\">\n",
              "      <th></th>\n",
              "      <th>review_id</th>\n",
              "      <th>review_comment_message</th>\n",
              "      <th>review_creation_date</th>\n",
              "      <th>review_score</th>\n",
              "    </tr>\n",
              "  </thead>\n",
              "  <tbody>\n",
              "    <tr>\n",
              "      <th>0</th>\n",
              "      <td>75821c5c8a5c0c6eac2f4c92a9c1fdd6</td>\n",
              "      <td>O produto foi entregue bem antes do prazo.adorei</td>\n",
              "      <td>2017-11-29 00:00:00</td>\n",
              "      <td>5.0</td>\n",
              "    </tr>\n",
              "    <tr>\n",
              "      <th>1</th>\n",
              "      <td>033baa4238fcac803931108093d2456a</td>\n",
              "      <td>Prazo não foi cumprido ... até hoje não chegou...</td>\n",
              "      <td>2016-12-01 00:00:00</td>\n",
              "      <td>1.0</td>\n",
              "    </tr>\n",
              "    <tr>\n",
              "      <th>2</th>\n",
              "      <td>81fc60dcc93fccd7c1bc96736c7b3ede</td>\n",
              "      <td>recomendo</td>\n",
              "      <td>2017-11-26 00:00:00</td>\n",
              "      <td>5.0</td>\n",
              "    </tr>\n",
              "    <tr>\n",
              "      <th>3</th>\n",
              "      <td>f19a67f2e44ecb90c8f7a36efbae78d3</td>\n",
              "      <td>Chegou no tempo certo, produto bem embalado, s...</td>\n",
              "      <td>2017-10-21 00:00:00</td>\n",
              "      <td>5.0</td>\n",
              "    </tr>\n",
              "    <tr>\n",
              "      <th>4</th>\n",
              "      <td>dc05b3529d4387165a606b6583d67ed5</td>\n",
              "      <td>Recomendo sim, além de chegar antes do prazo e...</td>\n",
              "      <td>2017-10-11 00:00:00</td>\n",
              "      <td>5.0</td>\n",
              "    </tr>\n",
              "  </tbody>\n",
              "</table>\n",
              "</div>"
            ],
            "text/plain": [
              "                          review_id  ... review_score\n",
              "0  75821c5c8a5c0c6eac2f4c92a9c1fdd6  ...          5.0\n",
              "1  033baa4238fcac803931108093d2456a  ...          1.0\n",
              "2  81fc60dcc93fccd7c1bc96736c7b3ede  ...          5.0\n",
              "3  f19a67f2e44ecb90c8f7a36efbae78d3  ...          5.0\n",
              "4  dc05b3529d4387165a606b6583d67ed5  ...          5.0\n",
              "\n",
              "[5 rows x 4 columns]"
            ]
          },
          "metadata": {
            "tags": []
          },
          "execution_count": 5
        }
      ]
    },
    {
      "cell_type": "code",
      "metadata": {
        "id": "lGzeIP2YD_Oz",
        "colab_type": "code",
        "outputId": "3d76ec48-c8aa-4405-d522-7550e41cea47",
        "colab": {
          "base_uri": "https://localhost:8080/",
          "height": 170
        }
      },
      "source": [
        "df.info()"
      ],
      "execution_count": 6,
      "outputs": [
        {
          "output_type": "stream",
          "text": [
            "<class 'pandas.core.frame.DataFrame'>\n",
            "RangeIndex: 27759 entries, 0 to 27758\n",
            "Data columns (total 4 columns):\n",
            "review_id                 27758 non-null object\n",
            "review_comment_message    27759 non-null object\n",
            "review_creation_date      27758 non-null object\n",
            "review_score              27757 non-null float64\n",
            "dtypes: float64(1), object(3)\n",
            "memory usage: 867.5+ KB\n"
          ],
          "name": "stdout"
        }
      ]
    },
    {
      "cell_type": "code",
      "metadata": {
        "id": "KFDNBrAsFu2R",
        "colab_type": "code",
        "colab": {
          "base_uri": "https://localhost:8080/",
          "height": 308
        },
        "outputId": "651285ac-db5b-4cea-983f-7cd5a93a3094"
      },
      "source": [
        "ax = df['review_score'].value_counts(sort=False).plot(kind='barh')\n",
        "ax.set_xlabel(\" Number of examples\")\n",
        "ax.set_ylabel(\"Review Score\")\n"
      ],
      "execution_count": 9,
      "outputs": [
        {
          "output_type": "execute_result",
          "data": {
            "text/plain": [
              "Text(0, 0.5, 'Review Score')"
            ]
          },
          "metadata": {
            "tags": []
          },
          "execution_count": 9
        },
        {
          "output_type": "display_data",
          "data": {
            "image/png": "[encoded data removed]",
            "text/plain": [
              "<Figure size 432x288 with 1 Axes>"
            ]
          },
          "metadata": {
            "tags": []
          }
        }
      ]
    },
    {
      "cell_type": "code",
      "metadata": {
        "id": "lEx8V_MRGr_U",
        "colab_type": "code",
        "colab": {
          "base_uri": "https://localhost:8080/",
          "height": 221
        },
        "outputId": "6a5ca120-6e2f-4c96-f69c-02f3300293db"
      },
      "source": [
        "dft = pd.read_csv('test.csv')\n",
        "print(dft.shape)\n",
        "dft.head()"
      ],
      "execution_count": 10,
      "outputs": [
        {
          "output_type": "stream",
          "text": [
            "(13673, 3)\n"
          ],
          "name": "stdout"
        },
        {
          "output_type": "execute_result",
          "data": {
            "text/html": [
              "<div>\n",
              "<style scoped>\n",
              "    .dataframe tbody tr th:only-of-type {\n",
              "        vertical-align: middle;\n",
              "    }\n",
              "\n",
              "    .dataframe tbody tr th {\n",
              "        vertical-align: top;\n",
              "    }\n",
              "\n",
              "    .dataframe thead th {\n",
              "        text-align: right;\n",
              "    }\n",
              "</style>\n",
              "<table border=\"1\" class=\"dataframe\">\n",
              "  <thead>\n",
              "    <tr style=\"text-align: right;\">\n",
              "      <th></th>\n",
              "      <th>review_id</th>\n",
              "      <th>review_comment_message</th>\n",
              "      <th>review_creation_date</th>\n",
              "    </tr>\n",
              "  </thead>\n",
              "  <tbody>\n",
              "    <tr>\n",
              "      <th>0</th>\n",
              "      <td>53d9b256be0d4f6be6806dcaae2efdc4</td>\n",
              "      <td>Recomendo muito! Chegou tudo certo e antes do ...</td>\n",
              "      <td>2018-05-03 00:00:00</td>\n",
              "    </tr>\n",
              "    <tr>\n",
              "      <th>1</th>\n",
              "      <td>77a64cd9d85fa3693f7b07ad14b9702d</td>\n",
              "      <td>Fiz a compra do produto, o mesmo não chegou no...</td>\n",
              "      <td>2017-12-29 00:00:00</td>\n",
              "    </tr>\n",
              "    <tr>\n",
              "      <th>2</th>\n",
              "      <td>56b7452646cbff8a680c948b7fcceb9c</td>\n",
              "      <td>bom produto</td>\n",
              "      <td>2018-01-09 00:00:00</td>\n",
              "    </tr>\n",
              "    <tr>\n",
              "      <th>3</th>\n",
              "      <td>202beb116c623e7006740695e0d86694</td>\n",
              "      <td>Dia 06/06/2018 efetuei a compra de 2 capas cas...</td>\n",
              "      <td>2018-06-13 00:00:00</td>\n",
              "    </tr>\n",
              "    <tr>\n",
              "      <th>4</th>\n",
              "      <td>6035b5360d50887471b8f12ae1beda70</td>\n",
              "      <td>Comprei e paguei por dois produtos iguais e só...</td>\n",
              "      <td>2018-01-04 00:00:00</td>\n",
              "    </tr>\n",
              "  </tbody>\n",
              "</table>\n",
              "</div>"
            ],
            "text/plain": [
              "                          review_id  ... review_creation_date\n",
              "0  53d9b256be0d4f6be6806dcaae2efdc4  ...  2018-05-03 00:00:00\n",
              "1  77a64cd9d85fa3693f7b07ad14b9702d  ...  2017-12-29 00:00:00\n",
              "2  56b7452646cbff8a680c948b7fcceb9c  ...  2018-01-09 00:00:00\n",
              "3  202beb116c623e7006740695e0d86694  ...  2018-06-13 00:00:00\n",
              "4  6035b5360d50887471b8f12ae1beda70  ...  2018-01-04 00:00:00\n",
              "\n",
              "[5 rows x 3 columns]"
            ]
          },
          "metadata": {
            "tags": []
          },
          "execution_count": 10
        }
      ]
    },
    {
      "cell_type": "code",
      "metadata": {
        "id": "FAWgCO96G0ij",
        "colab_type": "code",
        "colab": {}
      },
      "source": [
        ""
      ],
      "execution_count": 0,
      "outputs": []
    },
    {
      "cell_type": "code",
      "metadata": {
        "id": "zE47aHe0NfxE",
        "colab_type": "code",
        "colab": {}
      },
      "source": [
        "def preprocessar(texto):\n",
        "\n",
        "    # Pontuaçao e numeros\n",
        "    txt = re.sub('[^a-zA-Z]', ' ', txt)\n",
        "\n",
        "    # Tirar um unico caracter\n",
        "    txt = re.sub(r\"\\s+[a-zA-Z]\\s+\", ' ', txt)\n",
        "\n",
        "    # Espacos multiplos\n",
        "    txt = re.sub(r'\\s+', ' ', txt)\n",
        "\n",
        "    return txt"
      ],
      "execution_count": 0,
      "outputs": []
    },
    {
      "cell_type": "code",
      "metadata": {
        "id": "0VE7V6RWPceH",
        "colab_type": "code",
        "colab": {}
      },
      "source": [
        ""
      ],
      "execution_count": 0,
      "outputs": []
    },
    {
      "cell_type": "code",
      "metadata": {
        "id": "DlADixfPECCY",
        "colab_type": "code",
        "colab": {}
      },
      "source": [
        "## Definição de alguns parâmetros dos modelos e tokenização\n",
        "\n",
        "# Tamanho da sequencia\n",
        "seq_size     = 5\n",
        "\n",
        "# Máximo de tokens \n",
        "max_tokens   = 100\n",
        "\n",
        "# Tamanho do embedding\n",
        "embed_dim    = 5"
      ],
      "execution_count": 0,
      "outputs": []
    },
    {
      "cell_type": "code",
      "metadata": {
        "id": "iTA6RE5-EFtA",
        "colab_type": "code",
        "colab": {}
      },
      "source": [
        "## Utilizaremos apenas o .review_comment_message (input) e o .review_score (target) da nossa rede\n",
        "# Textos\n",
        "text         = df['review_comment_message'].values\n",
        "tokenizer    = Tokenizer(num_words=max_tokens, split=' ')\n",
        "\n",
        "# Transforma o texto em números\n",
        "tokenizer.fit_on_texts(text)\n",
        "X = tokenizer.texts_to_sequences(text)  \n",
        "\n",
        "# Cria sequencias de tamanho fixo (input: X)\n",
        "X = pad_sequences(X, maxlen=seq_size)\n",
        "\n",
        "# Target (review_score)\n",
        "Y = df['review_score'].values"
      ],
      "execution_count": 0,
      "outputs": []
    },
    {
      "cell_type": "code",
      "metadata": {
        "id": "drhrqMWqLJEg",
        "colab_type": "code",
        "colab": {
          "base_uri": "https://localhost:8080/",
          "height": 34
        },
        "outputId": "b1a487c0-9f1c-49da-8cfa-ef0685a96e10"
      },
      "source": [
        ""
      ],
      "execution_count": 18,
      "outputs": [
        {
          "output_type": "execute_result",
          "data": {
            "text/plain": [
              "'O produto foi entregue bem antes do prazo.adorei'"
            ]
          },
          "metadata": {
            "tags": []
          },
          "execution_count": 18
        }
      ]
    }
  ]
}