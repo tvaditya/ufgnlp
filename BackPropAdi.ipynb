{
 "cells": [
  {
   "cell_type": "code",
   "execution_count": 25,
   "metadata": {},
   "outputs": [],
   "source": [
    "import numpy as np\n",
    "import math"
   ]
  },
  {
   "cell_type": "code",
   "execution_count": 26,
   "metadata": {},
   "outputs": [],
   "source": [
    "#Definir a sigmoide e sua derivada\n",
    "def sigmoide(x):\n",
    "    return 1 / (1 + math.exp(-x))\n",
    "\n",
    "def d_sigmoide(output):\n",
    "    return output*(1-output)\n",
    "\n",
    "def relu(x):\n",
    "    return (x > 0) * x         \n",
    "\n",
    "def relu2deriv(output):\n",
    "    return output>0  "
   ]
  },
  {
   "cell_type": "code",
   "execution_count": 27,
   "metadata": {},
   "outputs": [],
   "source": [
    "entrada = np.array([0.05, 0.1])\n",
    "saida = np.array([0.01, 0.99])\n",
    "alpha = 0.01\n",
    "hidden_size = 2"
   ]
  },
  {
   "cell_type": "code",
   "execution_count": 28,
   "metadata": {},
   "outputs": [],
   "source": [
    "pesos_0_1 = np.random.randn(2,hidden_size)*0.001\n",
    "pesos_1_2 = np.random.randn(hidden_size,2)*0.001"
   ]
  },
  {
   "cell_type": "code",
   "execution_count": 29,
   "metadata": {},
   "outputs": [],
   "source": [
    "sigmoide = np.vectorize(sigmoide)\n",
    "d_sigmoide = np.vectorize(d_sigmoide)"
   ]
  },
  {
   "cell_type": "code",
   "execution_count": 31,
   "metadata": {},
   "outputs": [
    {
     "name": "stdout",
     "output_type": "stream",
     "text": [
      "Error:0.8888601780596904\n",
      "Error:0.8807220874321212\n",
      "Error:0.8727458616852839\n",
      "Error:0.8649282755704336\n",
      "Error:0.8572661686202552\n",
      "Error:0.8497564438188742\n",
      "Error:0.8423960663005464\n",
      "Error:0.8351820620763392\n",
      "Error:0.8281115167881549\n",
      "Error:0.8211815744894486\n",
      "Error:0.8143894364520182\n",
      "Error:0.8077323599982619\n",
      "Error:0.8012076573583078\n",
      "Error:0.7948126945514417\n",
      "Error:0.7885448902912737\n",
      "Error:0.7824017149140974\n",
      "Error:0.776380689329908\n",
      "Error:0.7704793839955643\n",
      "Error:0.7646954179095898\n",
      "Error:0.7590264576281206\n",
      "Error:0.753470216301521\n",
      "Error:0.7480244527312033\n",
      "Error:0.7426869704461927\n",
      "Error:0.737455616798998\n",
      "Error:0.7323282820803545\n",
      "Error:0.7273028986524172\n",
      "Error:0.7223774400999956\n",
      "Error:0.717549920399429\n",
      "Error:0.71281839310471\n",
      "Error:0.7081809505504791\n",
      "Error:0.7036357230715151\n",
      "Error:0.6991808782383617\n",
      "Error:0.6948146201087364\n",
      "Error:0.690535188494374\n",
      "Error:0.6863408582429732\n",
      "Error:0.6822299385349125\n",
      "Error:0.6782007721944194\n",
      "Error:0.6742517350148767\n",
      "Error:0.6703812350979614\n",
      "Error:0.6665877122063201\n",
      "Error:0.6628696371294863\n",
      "Error:0.659225511062758\n",
      "Error:0.655653864998757\n",
      "Error:0.6521532591313992\n",
      "Error:0.64872228227201\n",
      "Error:0.6453595512773282\n",
      "Error:0.6420637104891443\n",
      "Error:0.6388334311853276\n",
      "Error:0.6356674110419982\n",
      "Error:0.6325643736066138\n"
     ]
    }
   ],
   "source": [
    "for iteration in range(50):\n",
    "    layer_2_error = 0\n",
    "#   for i in range(len(entrada)):\n",
    "\n",
    "    layer_0 = entrada\n",
    "    layer_1 = sigmoide(np.dot(layer_0,pesos_0_1))\n",
    "    layer_2 = np.dot(layer_1,pesos_1_2)\n",
    "\n",
    "    layer_2_error += np.sum((layer_2 - saida) ** 2)\n",
    "\n",
    "    layer_2_delta = (layer_2 - saida)\n",
    "    layer_1_delta=layer_2_delta.dot(pesos_1_2.T)*sigmoide(layer_1)\n",
    "\n",
    "    pesos_1_2 -= alpha * layer_1.T.dot(layer_2_delta)\n",
    "    pesos_0_1 -= alpha * layer_0.T.dot(layer_1_delta)\n",
    "\n",
    "\n",
    "    print(\"Error:\" + str(layer_2_error))"
   ]
  },
  {
   "cell_type": "code",
   "execution_count": null,
   "metadata": {},
   "outputs": [],
   "source": []
  },
  {
   "cell_type": "code",
   "execution_count": null,
   "metadata": {},
   "outputs": [],
   "source": []
  },
  {
   "cell_type": "code",
   "execution_count": null,
   "metadata": {},
   "outputs": [],
   "source": []
  },
  {
   "cell_type": "code",
   "execution_count": null,
   "metadata": {},
   "outputs": [],
   "source": []
  }
 ],
 "metadata": {
  "kernelspec": {
   "display_name": "Python 3",
   "language": "python",
   "name": "python3"
  },
  "language_info": {
   "codemirror_mode": {
    "name": "ipython",
    "version": 3
   },
   "file_extension": ".py",
   "mimetype": "text/x-python",
   "name": "python",
   "nbconvert_exporter": "python",
   "pygments_lexer": "ipython3",
   "version": "3.6.5"
  }
 },
 "nbformat": 4,
 "nbformat_minor": 2
}
